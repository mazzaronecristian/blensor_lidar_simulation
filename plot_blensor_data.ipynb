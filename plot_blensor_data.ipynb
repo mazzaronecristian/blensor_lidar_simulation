{
 "cells": [
  {
   "cell_type": "markdown",
   "metadata": {},
   "source": [
    "# Valutazione dell'affidabilità dei sensori Lidar simulati "
   ]
  },
  {
   "cell_type": "markdown",
   "metadata": {},
   "source": [
    "## Librerie necessarie\n",
    "In questo notebook vengono utilizzate le seguenti librerie:"
   ]
  },
  {
   "cell_type": "code",
   "execution_count": null,
   "metadata": {},
   "outputs": [],
   "source": [
    "\n",
    "import matplotlib.pyplot as plt\n",
    "from mpl_toolkits.mplot3d import Axes3D\n",
    "import pandas as pd\n",
    "import numpy as np"
   ]
  },
  {
   "cell_type": "markdown",
   "metadata": {},
   "source": [
    "## Funzioni per il plot delle traiettorie\n",
    "\n",
    "plot_trajectory() mostra l'andamento della traiettoria passata in input.\n",
    "plot_all_trajectories() mostra l'andamento di tutte le traiettorie passate in input, utilizzando lo stesso grafico"
   ]
  },
  {
   "cell_type": "code",
   "execution_count": null,
   "metadata": {},
   "outputs": [],
   "source": [
    "def plot_trajectory(trajectory, name):\n",
    "    # * plot trajectory\n",
    "    plt.plot(trajectory[\"x\"], trajectory[\"y\"], label=name)\n",
    "    plt.xlabel(\"x\")\n",
    "    plt.ylabel(\"y\")\n",
    "    plt.legend()\n",
    "    plt.show()\n",
    "\n",
    "\n",
    "def plot_all_trajectories(trajectories):\n",
    "    # * plot all trajectories\n",
    "    for label in trajectories:\n",
    "        trajectory = trajectories[label]\n",
    "        plt.plot(trajectory[\"x\"], trajectory[\"y\"], label=label)\n",
    "    plt.xlabel(\"x\")\n",
    "    plt.ylabel(\"y\")\n",
    "    plt.legend()\n",
    "    plt.show()"
   ]
  },
  {
   "cell_type": "markdown",
   "metadata": {},
   "source": [
    "## Funzione per il plot delle nuvole di punti "
   ]
  },
  {
   "cell_type": "code",
   "execution_count": null,
   "metadata": {},
   "outputs": [],
   "source": [
    "def plot_3d_points(\n",
    "    clouds, colors, labels, elev=30, azim=-30, alphas=None, title=None, file_name=None\n",
    "):\n",
    "    if alphas is None:\n",
    "        alphas = [1 for _ in clouds]\n",
    "    fig = plt.figure()\n",
    "    ax = fig.add_subplot(111, projection=\"3d\")\n",
    "    for i, cloud in enumerate(clouds):\n",
    "        x, y, z = cloud\n",
    "        ax.scatter(x, y, z, c=colors[i], marker=\".\", label=labels[i], alpha=alphas[i])\n",
    "    ax.set_box_aspect([1, 1, 1])\n",
    "    # * rotazione di default: ax.view_init(elev=30, azim=-60)\n",
    "    ax.view_init(elev=elev, azim=azim)\n",
    "\n",
    "    ax.legend()\n",
    "    ax.set_xlabel(\"X\")\n",
    "    ax.set_ylabel(\"Y\")\n",
    "    ax.set_zlabel(\"Z\")\n",
    "    if title is not None:\n",
    "        ax.set_title(title)\n",
    "    if file_name is not None:\n",
    "        plt.savefig(file_name)\n",
    "    plt.show()"
   ]
  },
  {
   "cell_type": "markdown",
   "metadata": {},
   "source": [
    "## Funzioni utili  \n",
    "build_sphere costruisce una sfera e ritora i punti che la compongono, divisi in x, y e z"
   ]
  },
  {
   "cell_type": "code",
   "execution_count": null,
   "metadata": {},
   "outputs": [],
   "source": [
    "def build_sphere(radius=5, position=(0, 0, 0), traslation=(0, 0, 0)):\n",
    "    phi = np.linspace(0, np.pi, 100)\n",
    "    theta = np.linspace(0, 2 * np.pi, 100)\n",
    "    phi, theta = np.meshgrid(phi, theta)\n",
    "\n",
    "    x = radius * np.sin(phi) * np.cos(theta) + position[0] + traslation[0]\n",
    "    y = radius * np.sin(phi) * np.sin(theta) + position[1] + traslation[1]\n",
    "    z = radius * np.cos(phi) + position[2] + traslation[2]\n",
    "\n",
    "    return x, y, z\n",
    "\n",
    "\n",
    "def center_trajectory(trajectory):\n",
    "    plot_trajectory(trajectory, \"before\")\n",
    "    x_coords = trajectory[\"x\"]\n",
    "    y_coords = trajectory[\"y\"]\n",
    "\n",
    "    centroid_x = np.mean(x_coords)\n",
    "    centroid_y = np.mean(y_coords)\n",
    "\n",
    "    translation_x = -centroid_x\n",
    "    translation_y = -centroid_y\n",
    "\n",
    "    x_coords_trasl = x_coords + translation_x\n",
    "    y_coords_trasl = y_coords + translation_y\n",
    "\n",
    "    trajectory[\"x\"] = x_coords_trasl\n",
    "    trajectory[\"y\"] = y_coords_trasl\n",
    "    plot_trajectory(trajectory, \"after\")\n",
    "\n",
    "\n",
    "def center_and_trim_trajectory(trajectory):\n",
    "    center_x = np.mean(trajectory[\"x\"])\n",
    "    center_y = np.mean(trajectory[\"y\"])\n",
    "\n",
    "    trajectory[\"x\"] -= center_x\n",
    "    trajectory[\"y\"] -= center_y\n",
    "\n",
    "    if trajectory[\"label\"].iloc[0] == \"Trajectory_3\":\n",
    "        return trajectory[(trajectory[\"x\"] > -40) & (trajectory[\"x\"] < 40)]\n",
    "    if trajectory[\"label\"].iloc[0] == \"Trajectory_2\":\n",
    "        return trajectory[(trajectory[\"y\"] > -150) & (trajectory[\"y\"] < 150)]\n",
    "    if trajectory[\"label\"].iloc[0] == \"Trajectory_1\":\n",
    "        return trajectory[(trajectory[\"y\"] > -100) & (trajectory[\"y\"] < 100)]\n",
    "\n",
    "    return trajectory"
   ]
  },
  {
   "cell_type": "markdown",
   "metadata": {},
   "source": [
    "## Plot delle traiettorie da un Dataframe   "
   ]
  },
  {
   "cell_type": "code",
   "execution_count": null,
   "metadata": {},
   "outputs": [],
   "source": [
    "\n",
    "# * leggi i dati dal file csv e salva tutte le labels di riconoscimenti delle traiettorie in un array\n",
    "vehicle_loc_rot = pd.read_csv(\"vehicle_trajectories.csv\")\n",
    "labels = vehicle_loc_rot[\"label\"].unique()\n",
    "\n",
    "# * test plot_all_trajectories per plottare tutte le traiettorie\n",
    "trajectories = {}\n",
    "for label in labels:\n",
    "    trajectory = vehicle_loc_rot[vehicle_loc_rot[\"label\"] == label].reset_index(\n",
    "        drop=True\n",
    "    )\n",
    "    trajectories[label] = trajectory\n",
    "plot_all_trajectories(trajectories)"
   ]
  },
  {
   "cell_type": "markdown",
   "metadata": {},
   "source": [
    "\n",
    "## Centering e trimming delle traiettorie\n",
    "\n",
    "All'interno di `scan.py`, la traiettoria viene centrata nello spazio tridimensionale e accoricata, in modo che il posizionamento dei sensori sia facilitato.\n"
   ]
  },
  {
   "cell_type": "code",
   "execution_count": null,
   "metadata": {},
   "outputs": [],
   "source": [
    "df = pd.read_csv(\"vehicle_trajectories.csv\")\n",
    "df_trimmed = df.groupby(\"label\").apply(center_and_trim_trajectory).reset_index(drop=True)\n",
    "df_trimmed['time'] = df_trimmed.groupby('label')['time'].transform(lambda x: x - x.min())\n",
    "\n",
    "# plot_trajectory(df_trimmed[df_trimmed[\"label\"] == \"Trajectory_3\"].reset_index(\n",
    "#         drop=True\n",
    "#     ), \"after\")\n",
    "\n",
    "df_trimmed.to_csv(\"vehicle_keyframes.csv\", index=False)\n",
    "\n",
    "trajectories = {}\n",
    "for label in labels:\n",
    "    trajectory = df_trimmed[df_trimmed[\"label\"] == label].reset_index(\n",
    "        drop=True\n",
    "    )\n",
    "    trajectories[label] = trajectory\n",
    "plot_all_trajectories(trajectories)"
   ]
  },
  {
   "cell_type": "markdown",
   "metadata": {},
   "source": [
    "## Verifica affidabilità della simulazione\n",
    "\n",
    "Attraverso la simulazione di una sfera e di un sensore Lidar all'interno dell'ambiente di Blender, sono state generate le nuvole di punti archiviate nei file `scan_sphere.csv` e `scan_sphere_trasl.csv`. Tali file rappresentano rispettivamente la sfera prima e dopo il suo spostamento nello spazio tridimensionale.\n",
    "\n",
    "La sfera, costruita per rispecchiare fedelmente le dimensioni della sua controparte simulata, è stata posizionata nello spazio in modo analogo a quanto simulato in precedenza. Successivamente, la sfera è stata traslata seguendo un procedimento analogo a quello precedentemente simulato.\n",
    "\n",
    "Attraverso l'utilizzo della libreria Matplotlib, sono stati generati due grafici distinti:\n",
    "1. Il primo grafico offre una visualizzazione della sfera simulata e della sfera traslata, consentendo una valutazione visiva delle analogie tra le due situazioni.\n",
    "2. Il secondo grafico presenta le nuvole di punti estratte dai file CSV."
   ]
  },
  {
   "cell_type": "code",
   "execution_count": null,
   "metadata": {},
   "outputs": [],
   "source": [
    "\n",
    "scan = pd.read_csv(\"scan_sphere.csv\")\n",
    "x_scan = scan[\"x\"]\n",
    "y_scan = scan[\"y\"]\n",
    "z_scan = scan[\"z\"]\n",
    "\n",
    "scan_trasl = pd.read_csv(\"scan_sphere_trasl.csv\")\n",
    "x_scan_trasl = scan_trasl[\"x\"]\n",
    "y_scan_trasl = scan_trasl[\"y\"]\n",
    "z_scan_trasl = scan_trasl[\"z\"]\n",
    "\n",
    "x_sphere, y_sphere, z_sphere = build_sphere(\n",
    "    radius=2, position=(0, 6, -7), traslation=(0, 0, 0)\n",
    ")\n",
    "x_sphere_trasl, y_sphere_trasl, z_sphere_trasl = build_sphere(\n",
    "    radius=2, position=(0, 6, -7), traslation=(0, -2, 1)\n",
    ")\n",
    "\n",
    "plot_3d_points(\n",
    "    [(x_scan, y_scan, z_scan), (x_scan_trasl, y_scan_trasl, z_scan_trasl)],\n",
    "    colors=[\"blue\", \"red\"],\n",
    "    labels=[\"prima della traslazione\", \"dopo la traslazione\"],\n",
    "    file_name=\"jupyter_plots/scan_sphere.png\",\n",
    ")\n",
    "\n",
    "plot_3d_points(\n",
    "    [(x_sphere, y_sphere, z_sphere), (x_sphere_trasl, y_sphere_trasl, z_sphere_trasl)],\n",
    "    colors=[\"green\", \"orange\"],\n",
    "    labels=[\"prima della traslazione\", \"dopo la traslazione\"],\n",
    "    file_name=\"jupyter_plots/sphere.png\",\n",
    ")\n"
   ]
  },
  {
   "cell_type": "markdown",
   "metadata": {},
   "source": [
    "Nel contesto di situazioni simili create, ci si aspetta che i due grafici siano compatibili, a condizione che la simulazione dei sensori Lidar sia accurata. Tale analisi visiva costituisce un mezzo per valutare la coerenza tra la simulazione e le situazioni reali rappresentate attraverso i dati dei sensori Lidar."
   ]
  },
  {
   "cell_type": "code",
   "execution_count": null,
   "metadata": {},
   "outputs": [],
   "source": [
    "\n",
    "plot_3d_points(\n",
    "    [\n",
    "        (x_scan, y_scan, z_scan),\n",
    "        (x_scan_trasl, y_scan_trasl, z_scan_trasl),\n",
    "        (x_sphere, y_sphere, z_sphere),\n",
    "        (x_sphere_trasl, y_sphere_trasl, z_sphere_trasl),\n",
    "    ],\n",
    "    colors=[\"blue\", \"red\", \"green\", \"orange\"],\n",
    "    labels=[\n",
    "        \"nuvola prima della traslazione\",\n",
    "        \"nuvola dopo la traslazione\",\n",
    "        \"sfera prima della traslazione\",\n",
    "        \"sfera dopo la traslazione\",\n",
    "    ],\n",
    "    alphas=[1, 1, 0.1, 0.1],\n",
    "    file_name=\"jupyter_plots/overlap.png\",\n",
    ")"
   ]
  },
  {
   "cell_type": "markdown",
   "metadata": {},
   "source": [
    "## Analisi delle nuvole di punti di un sensore Lidar in uno scenario con veicolo\n",
    "\n",
    "Di seguito plottiamo i dati raccolti da un sensore Lidar in uno scenario con veicolo. La traiettoria in questione è formata da 80 timestep ed è una di quelle riportante sopra (a forma di \"S\"). \n",
    "\n",
    "### Posizionamento dei sensori\n",
    "I sensori posizionati nella scena sono 4, uno per ogni quadrate del piano cartesiano:\n",
    "+ il sensore 0 è posizionato in basso a sinistra\n",
    "+ il sensore 1 è posizionato in alto a sinistra\n",
    "+ il sensore 2 è posizionato in basso a destra\n",
    "+ il sensore 3 è posizionato in alto a destra\n",
    "\n",
    "### Traiettoria 1\n",
    "\n",
    "Come si vede dal grafico delle traiettorie, la traiettoria 1 attraversa lo spazio tridimensionale da destra in basso, a sinistra in alto, formando una curva a S. Il risultato atteso è che i sensori 2 e 1 siano quelli che rilevano più punti, in quanto la traiettoria passa in prossimita di tali sensori e curva in quei paraggi. I sensori 0 e 3, invece, dovrebbero rilevare meno punti, in quanto la traiettoria non passa in prossimità di tali sensori. Analizzando i graifici delle nuvole di punti, si vede che i risultati sono in linea con le aspettative."
   ]
  },
  {
   "cell_type": "code",
   "execution_count": null,
   "metadata": {},
   "outputs": [],
   "source": [
    "for i in range(66):\n",
    "    # * esamino i dati a intervall di 2 timestep\n",
    "    if i % 2 == 0:\n",
    "        scan = pd.read_csv(f\"scans/csv/trajectory_1/camera_3_{i}.csv\")\n",
    "        x_scan = scan[\"x\"]\n",
    "        y_scan = scan[\"y\"]\n",
    "        z_scan = scan[\"z\"]\n",
    "        plot_3d_points(\n",
    "            [(x_scan, y_scan, z_scan)],\n",
    "            colors=[\"blue\"],\n",
    "            labels=[\"nuvola\"],\n",
    "            title=f\"timestep {i}\",\n",
    "            elev=45,\n",
    "            azim=180,\n",
    "            file_name=f\"jupyter_plots/scan_{i}.png\",\n",
    "        )"
   ]
  }
 ],
 "metadata": {
  "kernelspec": {
   "display_name": "new_blender",
   "language": "python",
   "name": "python3"
  },
  "language_info": {
   "codemirror_mode": {
    "name": "ipython",
    "version": 3
   },
   "file_extension": ".py",
   "mimetype": "text/x-python",
   "name": "python",
   "nbconvert_exporter": "python",
   "pygments_lexer": "ipython3",
   "version": "3.12.0"
  }
 },
 "nbformat": 4,
 "nbformat_minor": 2
}
